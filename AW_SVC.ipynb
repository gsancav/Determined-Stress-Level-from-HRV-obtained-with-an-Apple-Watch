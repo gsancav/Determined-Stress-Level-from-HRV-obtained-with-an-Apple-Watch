{
 "cells": [
  {
   "cell_type": "markdown",
   "metadata": {},
   "source": [
    "# Creación del modelo a partir de los datos medidos"
   ]
  },
  {
   "cell_type": "code",
   "execution_count": 1,
   "metadata": {},
   "outputs": [],
   "source": [
    "# Importamos los módulos\n",
    "import pandas as pd\n",
    "import numpy as np"
   ]
  },
  {
   "cell_type": "code",
   "execution_count": 2,
   "metadata": {},
   "outputs": [],
   "source": [
    "# Leemos los valores\n",
    "df = pd.read_csv('HRV_Analysis.csv')"
   ]
  },
  {
   "cell_type": "code",
   "execution_count": 3,
   "metadata": {},
   "outputs": [],
   "source": [
    "# Creamos la serie y con la variable independiente\n",
    "y_data = df['Stress']\n",
    "# Creamos el X con las variables dependientes que nos interesan\n",
    "x_data = df[['Mean RR (ms)','SDNN','Mean HR (bpm)','RMSSD (ms)','pNN50 (%)','VLF','LF','HF','LF/HF']]"
   ]
  },
  {
   "cell_type": "code",
   "execution_count": 4,
   "metadata": {},
   "outputs": [
    {
     "name": "stdout",
     "output_type": "stream",
     "text": [
      "numero de casos de test: 29\n",
      "numero de casos de entrenamiento: 113\n"
     ]
    }
   ],
   "source": [
    "# Separamos los datasets de entrenamiento y test\n",
    "from sklearn.model_selection import train_test_split\n",
    "\n",
    "x_train, x_test, y_train, y_test = train_test_split(x_data, y_data, test_size=0.2, random_state=1,stratify=y_data)\n",
    "\n",
    "print(\"numero de casos de test:\", x_test.shape[0])\n",
    "print(\"numero de casos de entrenamiento:\",x_train.shape[0])"
   ]
  },
  {
   "cell_type": "code",
   "execution_count": 5,
   "metadata": {},
   "outputs": [],
   "source": [
    "# Importamos los módulos\n",
    "from sklearn.svm import SVC\n",
    "from sklearn.metrics import roc_auc_score, accuracy_score, f1_score, confusion_matrix, classification_report"
   ]
  },
  {
   "cell_type": "code",
   "execution_count": 6,
   "metadata": {},
   "outputs": [
    {
     "data": {
      "text/plain": [
       "SVC(C=1, gamma=1, kernel='poly')"
      ]
     },
     "execution_count": 6,
     "metadata": {},
     "output_type": "execute_result"
    }
   ],
   "source": [
    "# Creamos el modelo con los valores óptimos (se han calculado aparte)\n",
    "svc = SVC(C=1, gamma=1, kernel='poly', degree=3)\n",
    "# Entrenamos el modelo con los datos de entrenamiento\n",
    "svc.fit(x_train, y_train)"
   ]
  },
  {
   "cell_type": "code",
   "execution_count": 7,
   "metadata": {},
   "outputs": [
    {
     "name": "stdout",
     "output_type": "stream",
     "text": [
      "accuracy in train: 0.9823008849557522\n",
      "accuracy in test: 0.8275862068965517\n"
     ]
    }
   ],
   "source": [
    "# Predecimos los valores con el modelo creado en ambos datasets\n",
    "preds_train = svc.predict(x_train)\n",
    "preds_test = svc.predict(x_test)\n",
    "# Obtenemos la precisión del modelo en ambos datasets (% acierto)\n",
    "print('accuracy in train:', accuracy_score(y_train, preds_train))\n",
    "print('accuracy in test:', accuracy_score(y_test, preds_test))"
   ]
  },
  {
   "cell_type": "code",
   "execution_count": 8,
   "metadata": {},
   "outputs": [
    {
     "name": "stdout",
     "output_type": "stream",
     "text": [
      "Classification report of our model\n",
      "\n",
      "              precision    recall  f1-score   support\n",
      "\n",
      "           0       0.89      0.84      0.86        19\n",
      "           1       0.73      0.80      0.76        10\n",
      "\n",
      "    accuracy                           0.83        29\n",
      "   macro avg       0.81      0.82      0.81        29\n",
      "weighted avg       0.83      0.83      0.83        29\n",
      "\n"
     ]
    }
   ],
   "source": [
    "# Obtenemos el informe de clasificación\n",
    "print('Classification report of our model\\n')\n",
    "print(classification_report(y_test,preds_test))"
   ]
  },
  {
   "cell_type": "code",
   "execution_count": 9,
   "metadata": {},
   "outputs": [
    {
     "name": "stdout",
     "output_type": "stream",
     "text": [
      "[[16  3]\n",
      " [ 2  8]]\n"
     ]
    }
   ],
   "source": [
    "# Obtenemos la matriz de confusión\n",
    "print(confusion_matrix(y_test, preds_test))"
   ]
  },
  {
   "cell_type": "code",
   "execution_count": 10,
   "metadata": {},
   "outputs": [
    {
     "data": {
      "text/plain": [
       "['AW_svc.joblib']"
      ]
     },
     "execution_count": 10,
     "metadata": {},
     "output_type": "execute_result"
    }
   ],
   "source": [
    "# Exportamos el modelo\n",
    "from joblib import dump\n",
    "dump(svc,'AW_svc.joblib')"
   ]
  },
  {
   "cell_type": "code",
   "execution_count": 15,
   "metadata": {},
   "outputs": [],
   "source": [
    "test = pd.read_csv('SWELL_test.csv')\n",
    "train = pd.read_csv('SWELL_train.csv')"
   ]
  },
  {
   "cell_type": "code",
   "execution_count": 16,
   "metadata": {},
   "outputs": [],
   "source": [
    "# Convertimos la variable categórica (condition) en variables binarias\n",
    "train=pd.concat([train,pd.get_dummies(train[['condition']])],axis=1)\n",
    "test=pd.concat([test,pd.get_dummies(test[['condition']])],axis=1)\n",
    "# Añadimos una nueva columna (condicion) con los valores 0, no estrés y 1, estrés (interruption y time pressure)\n",
    "test['condicion'] = test['condition_no stress']\n",
    "train['condicion'] = train['condition_no stress']\n",
    "test['condicion'] = test['condicion'].replace([0,1],[1,0])\n",
    "train['condicion'] = train['condicion'].replace([0,1],[1,0])"
   ]
  },
  {
   "cell_type": "code",
   "execution_count": 17,
   "metadata": {},
   "outputs": [],
   "source": [
    "# Creamos los datasets X con las variables dependientes que nos interesan\n",
    "X_test = test[['MEAN_RR','SDRR','RMSSD','pNN50','HR','VLF','LF','HF','LF_HF']]\n",
    "X_train = train[['MEAN_RR','SDRR','RMSSD','pNN50','HR','VLF','LF','HF','LF_HF']]"
   ]
  },
  {
   "cell_type": "code",
   "execution_count": 18,
   "metadata": {},
   "outputs": [],
   "source": [
    "# Creamos las series y con la variable independiente\n",
    "y_train = train['condicion']\n",
    "y_test = test['condicion']"
   ]
  },
  {
   "cell_type": "code",
   "execution_count": 19,
   "metadata": {},
   "outputs": [],
   "source": [
    "# Predecimos las situaciones de estrés de los datasets X\n",
    "preds1 = svc.predict(X_test)\n",
    "preds2 = svc.predict(X_train)"
   ]
  },
  {
   "cell_type": "code",
   "execution_count": 20,
   "metadata": {},
   "outputs": [
    {
     "name": "stdout",
     "output_type": "stream",
     "text": [
      "Accuracy in SWELL_train: 0.4979406818901859\n",
      "Accuracy in SWELL_test: 0.49399250993124627\n"
     ]
    }
   ],
   "source": [
    "# Obtenemos la precisión del modelo en ambos datasets (% acierto)\n",
    "print('Accuracy in SWELL_train:', accuracy_score(y_test, preds1))\n",
    "print('Accuracy in SWELL_test:', accuracy_score(y_train, preds2))"
   ]
  },
  {
   "cell_type": "code",
   "execution_count": null,
   "metadata": {},
   "outputs": [],
   "source": []
  }
 ],
 "metadata": {
  "kernelspec": {
   "display_name": "Python 3",
   "language": "python",
   "name": "python3"
  },
  "language_info": {
   "codemirror_mode": {
    "name": "ipython",
    "version": 3
   },
   "file_extension": ".py",
   "mimetype": "text/x-python",
   "name": "python",
   "nbconvert_exporter": "python",
   "pygments_lexer": "ipython3",
   "version": "3.8.5"
  }
 },
 "nbformat": 4,
 "nbformat_minor": 4
}
