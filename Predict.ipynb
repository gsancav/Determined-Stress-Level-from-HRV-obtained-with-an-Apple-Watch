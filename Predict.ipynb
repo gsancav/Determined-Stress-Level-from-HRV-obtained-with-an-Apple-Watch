{
 "cells": [
  {
   "cell_type": "markdown",
   "metadata": {},
   "source": [
    "# Predicciones de los modelos"
   ]
  },
  {
   "cell_type": "code",
   "execution_count": 1,
   "metadata": {},
   "outputs": [],
   "source": [
    "# Importamos los módulos\n",
    "import pandas as pd\n",
    "import numpy as np"
   ]
  },
  {
   "cell_type": "code",
   "execution_count": 2,
   "metadata": {},
   "outputs": [],
   "source": [
    "# Importamos los modelos\n",
    "from joblib import load\n",
    "svc1 = load('AW_svc.joblib')\n",
    "svc2 = load('SWELL_svc.joblib')"
   ]
  },
  {
   "cell_type": "code",
   "execution_count": 3,
   "metadata": {},
   "outputs": [],
   "source": [
    "# Leemos los valores\n",
    "test = pd.read_csv('SWELL_test.csv')\n",
    "train = pd.read_csv('SWELL_train.csv')\n",
    "AW = pd.read_csv('HRV_Analysis.csv')"
   ]
  },
  {
   "cell_type": "code",
   "execution_count": 4,
   "metadata": {},
   "outputs": [],
   "source": [
    "# Convertimos la variable categórica (condition) en variables binarias\n",
    "train=pd.concat([train,pd.get_dummies(train[['condition']])],axis=1)\n",
    "test=pd.concat([test,pd.get_dummies(test[['condition']])],axis=1)\n",
    "# Añadimos una nueva columna (condicion) con los valores 0, no estrés y 1, estrés (interruption y time pressure)\n",
    "test['condicion'] = test['condition_no stress']\n",
    "train['condicion'] = train['condition_no stress']\n",
    "test['condicion'] = test['condicion'].replace([0,1],[1,0])\n",
    "train['condicion'] = train['condicion'].replace([0,1],[1,0])"
   ]
  },
  {
   "cell_type": "code",
   "execution_count": 5,
   "metadata": {},
   "outputs": [],
   "source": [
    "# Creamos los datasets X con las variables dependientes que nos interesan\n",
    "X_test = test[['MEAN_RR','SDRR','RMSSD','pNN50','HR','VLF','LF','HF','LF_HF']]\n",
    "X_train = train[['MEAN_RR','SDRR','RMSSD','pNN50','HR','VLF','LF','HF','LF_HF']]\n",
    "X_AW = AW[['Mean RR (ms)','SDNN','RMSSD (ms)','pNN50 (%)','Mean HR (bpm)','VLF','LF','HF','LF/HF']]"
   ]
  },
  {
   "cell_type": "code",
   "execution_count": 6,
   "metadata": {},
   "outputs": [],
   "source": [
    "# Creamos las series y con la variable independiente\n",
    "y_train = train['condicion']\n",
    "y_test = test['condicion']\n",
    "y_AW = AW['Stress']"
   ]
  },
  {
   "cell_type": "code",
   "execution_count": 7,
   "metadata": {},
   "outputs": [],
   "source": [
    "# Predecimos las situaciones de estrés de los datasets X\n",
    "preds1 = svc1.predict(X_test)\n",
    "preds2 = svc1.predict(X_train)\n",
    "preds3 = svc2.predict(X_AW)"
   ]
  },
  {
   "cell_type": "code",
   "execution_count": 8,
   "metadata": {},
   "outputs": [],
   "source": [
    "# Importamos los módulos\n",
    "from sklearn.svm import SVC\n",
    "from sklearn.metrics import roc_auc_score, accuracy_score, f1_score, confusion_matrix, classification_report"
   ]
  },
  {
   "cell_type": "code",
   "execution_count": 9,
   "metadata": {},
   "outputs": [
    {
     "name": "stdout",
     "output_type": "stream",
     "text": [
      "Accuracy in SWELL_train: 0.4979406818901859\n",
      "Accuracy in SWELL_test: 0.49399250993124627\n",
      "Accuracy in AW: 0.352112676056338\n"
     ]
    }
   ],
   "source": [
    "# Obtenemos la precisión del modelo en ambos datasets (% acierto)\n",
    "print('Accuracy in SWELL_train:', accuracy_score(y_test, preds1))\n",
    "print('Accuracy in SWELL_test:', accuracy_score(y_train, preds2))\n",
    "print('Accuracy in AW:', accuracy_score(y_AW, preds3))"
   ]
  }
 ],
 "metadata": {
  "kernelspec": {
   "display_name": "Python 3",
   "language": "python",
   "name": "python3"
  },
  "language_info": {
   "codemirror_mode": {
    "name": "ipython",
    "version": 3
   },
   "file_extension": ".py",
   "mimetype": "text/x-python",
   "name": "python",
   "nbconvert_exporter": "python",
   "pygments_lexer": "ipython3",
   "version": "3.8.5"
  }
 },
 "nbformat": 4,
 "nbformat_minor": 4
}
